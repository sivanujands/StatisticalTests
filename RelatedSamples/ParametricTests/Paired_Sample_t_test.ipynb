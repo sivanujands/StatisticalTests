{
  "nbformat": 4,
  "nbformat_minor": 0,
  "metadata": {
    "colab": {
      "provenance": [],
      "authorship_tag": "ABX9TyOXKPDvn6L/SX1YURDm8Jor",
      "include_colab_link": true
    },
    "kernelspec": {
      "name": "python3",
      "display_name": "Python 3"
    },
    "language_info": {
      "name": "python"
    }
  },
  "cells": [
    {
      "cell_type": "markdown",
      "metadata": {
        "id": "view-in-github",
        "colab_type": "text"
      },
      "source": [
        "<a href=\"https://colab.research.google.com/github/sivanujands/StatisticalTests/blob/main/RelatedSamples/ParametricTests/Paired_Sample_t_test.ipynb\" target=\"_parent\"><img src=\"https://colab.research.google.com/assets/colab-badge.svg\" alt=\"Open In Colab\"/></a>"
      ]
    },
    {
      "cell_type": "code",
      "execution_count": 1,
      "metadata": {
        "colab": {
          "base_uri": "https://localhost:8080/"
        },
        "id": "yJy8TzCGIXVw",
        "outputId": "ce4c189b-036b-4cfe-8450-ab399846ba2c"
      },
      "outputs": [
        {
          "output_type": "stream",
          "name": "stdout",
          "text": [
            "DataFrame with Differences:\n",
            "   Participant  Weight_Before  Weight_After  Difference\n",
            "0            1             70            68           2\n",
            "1            2             75            73           2\n",
            "2            3             80            78           2\n",
            "3            4             65            64           1\n",
            "4            5             90            87           3\n",
            "5            6             72            70           2\n",
            "6            7             68            67           1\n",
            "7            8             85            83           2\n",
            "8            9             78            76           2\n",
            "9           10             73            71           2\n",
            "\n",
            "\n",
            "T-statistic: 10.585\n",
            "P-value: 0.000\n",
            "\n",
            "\n",
            "Significance Level (alpha): 0.05\n",
            "Since p-value (0.000) < alpha (0.05), we reject the null hypothesis.\n",
            "Conclusion: There is a statistically significant reduction in weight after one month on the diet plan.\n",
            "\n",
            "Mean of differences (Weight_Before - Weight_After): 1.90 kg\n"
          ]
        }
      ],
      "source": [
        "import pandas as pd\n",
        "from scipy import stats\n",
        "\n",
        "# 1. Data\n",
        "data = {\n",
        "    'Participant': [1, 2, 3, 4, 5, 6, 7, 8, 9, 10],\n",
        "    'Weight_Before': [70, 75, 80, 65, 90, 72, 68, 85, 78, 73],\n",
        "    'Weight_After': [68, 73, 78, 64, 87, 70, 67, 83, 76, 71]\n",
        "}\n",
        "df = pd.DataFrame(data)\n",
        "\n",
        "# 2. Calculate the differences\n",
        "df['Difference'] = df['Weight_Before'] - df['Weight_After'] # We want to see if 'Before' is greater than 'After'\n",
        "\n",
        "print(\"DataFrame with Differences:\")\n",
        "print(df)\n",
        "print(\"\\n\")\n",
        "\n",
        "# 3. Perform the Paired Sample t-test\n",
        "# We are testing if the mean of the differences is significantly greater than 0 (one-tailed).\n",
        "# The default ttest_rel is two-sided. For a one-sided test, we interpret the p-value appropriately.\n",
        "t_statistic, p_value = stats.ttest_rel(df['Weight_Before'], df['Weight_After'], alternative='greater')\n",
        "\n",
        "print(f\"T-statistic: {t_statistic:.3f}\")\n",
        "print(f\"P-value: {p_value:.3f}\")\n",
        "print(\"\\n\")\n",
        "\n",
        "# 4. Set the Significance Level\n",
        "alpha = 0.05\n",
        "\n",
        "# 5. Make a Decision and Draw a Conclusion\n",
        "print(f\"Significance Level (alpha): {alpha}\")\n",
        "\n",
        "if p_value < alpha:\n",
        "    print(f\"Since p-value ({p_value:.3f}) < alpha ({alpha}), we reject the null hypothesis.\")\n",
        "    print(\"Conclusion: There is a statistically significant reduction in weight after one month on the diet plan.\")\n",
        "else:\n",
        "    print(f\"Since p-value ({p_value:.3f}) >= alpha ({alpha}), we fail to reject the null hypothesis.\")\n",
        "    print(\"Conclusion: There is no statistically significant reduction in weight after one month on the diet plan.\")\n",
        "\n",
        "# Optional: Check the mean of differences for better understanding\n",
        "mean_difference = df['Difference'].mean()\n",
        "print(f\"\\nMean of differences (Weight_Before - Weight_After): {mean_difference:.2f} kg\")\n",
        "\n",
        "# Optional: Check normality of differences (for small samples, important)\n",
        "# from scipy.stats import shapiro\n",
        "# shapiro_stat, shapiro_p = shapiro(df['Difference'])\n",
        "# print(f\"Shapiro-Wilk Test for Normality of Differences:\")\n",
        "# print(f\"  Statistic: {shapiro_stat:.3f}\")\n",
        "# print(f\"  P-value: {shapiro_p:.3f}\")\n",
        "# if shapiro_p < alpha:\n",
        "#     print(\"  Differences are NOT normally distributed. Consider non-parametric test (Wilcoxon Signed-Rank Test).\")\n",
        "# else:\n",
        "#     print(\"  Differences appear normally distributed.\")"
      ]
    },
    {
      "cell_type": "markdown",
      "source": [
        "**Explanation of the Output:**\n",
        "\n",
        "* The output will show the calculated T-statistic and the P-value.\n",
        "\n",
        "\n",
        "* The T-statistic indicates how many standard errors the mean difference is away from zero. A positive T-statistic means 'Weight_Before' is, on average, greater than 'Weight_After', which aligns with our expectation of weight reduction.\n",
        "\n",
        "\n",
        "* The P-value tells us the probability of observing such a weight reduction (or greater) by chance, assuming the diet plan has no effect.\n",
        "\n",
        "\n",
        "* In this example, if the p-value is less than 0.05, we would conclude that the diet plan does lead to a statistically significant weight reduction. If it's greater than 0.05, we would conclude there isn't enough evidence to support a significant reduction."
      ],
      "metadata": {
        "id": "UzFLtnZ-JRgO"
      }
    },
    {
      "cell_type": "code",
      "source": [],
      "metadata": {
        "id": "w2378GM4Jc5-"
      },
      "execution_count": null,
      "outputs": []
    }
  ]
}
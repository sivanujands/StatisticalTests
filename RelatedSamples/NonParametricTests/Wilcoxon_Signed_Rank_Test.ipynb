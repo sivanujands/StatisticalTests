{
  "nbformat": 4,
  "nbformat_minor": 0,
  "metadata": {
    "colab": {
      "provenance": [],
      "authorship_tag": "ABX9TyNQCQ/FVRc1hZtAXI8n2v5s",
      "include_colab_link": true
    },
    "kernelspec": {
      "name": "python3",
      "display_name": "Python 3"
    },
    "language_info": {
      "name": "python"
    }
  },
  "cells": [
    {
      "cell_type": "markdown",
      "metadata": {
        "id": "view-in-github",
        "colab_type": "text"
      },
      "source": [
        "<a href=\"https://colab.research.google.com/github/sivanujands/StatisticalTests/blob/main/RelatedSamples/NonParametricTests/Wilcoxon_Signed_Rank_Test.ipynb\" target=\"_parent\"><img src=\"https://colab.research.google.com/assets/colab-badge.svg\" alt=\"Open In Colab\"/></a>"
      ]
    },
    {
      "cell_type": "code",
      "execution_count": 1,
      "metadata": {
        "colab": {
          "base_uri": "https://localhost:8080/"
        },
        "id": "mpwjqHSQK6Dj",
        "outputId": "01595a3e-8cdf-4e75-8ef7-07ce9ec5e993"
      },
      "outputs": [
        {
          "output_type": "stream",
          "name": "stdout",
          "text": [
            "Original DataFrame:\n",
            "    Participant  Anxiety_Before  Anxiety_After\n",
            "0             1               7              5\n",
            "1             2               8              6\n",
            "2             3               6              5\n",
            "3             4               9              7\n",
            "4             5               5              4\n",
            "5             6               7              6\n",
            "6             7               8              8\n",
            "7             8               6              4\n",
            "8             9               7              7\n",
            "9            10               9              6\n",
            "10           11               5              3\n",
            "11           12               8              5\n",
            "\n",
            "\n",
            "Wilcoxon W-statistic: 55.000\n",
            "P-value: 0.001\n",
            "\n",
            "\n",
            "Significance Level (alpha): 0.05\n",
            "Since p-value (0.001) < alpha (0.05), we reject the null hypothesis.\n",
            "Conclusion: There is a statistically significant reduction in anxiety levels after the mindfulness intervention.\n",
            "\n",
            "Differences (Before - After):\n",
            "0     2\n",
            "1     2\n",
            "2     1\n",
            "3     2\n",
            "4     1\n",
            "5     1\n",
            "6     0\n",
            "7     2\n",
            "8     0\n",
            "9     3\n",
            "10    2\n",
            "11    3\n",
            "Name: Difference, dtype: int64\n",
            "\n",
            "Number of zero differences: 2\n"
          ]
        }
      ],
      "source": [
        "import pandas as pd\n",
        "from scipy import stats\n",
        "import numpy as np\n",
        "\n",
        "# 1. Data\n",
        "data = {\n",
        "    'Participant': list(range(1, 13)),\n",
        "    'Anxiety_Before': [7, 8, 6, 9, 5, 7, 8, 6, 7, 9, 5, 8],\n",
        "    'Anxiety_After': [5, 6, 5, 7, 4, 6, 8, 4, 7, 6, 3, 5]\n",
        "}\n",
        "df = pd.DataFrame(data)\n",
        "\n",
        "print(\"Original DataFrame:\")\n",
        "print(df)\n",
        "print(\"\\n\")\n",
        "\n",
        "# 2. Perform the Wilcoxon Signed-Rank Test\n",
        "# For a one-tailed test (expecting 'Anxiety_After' to be less than 'Anxiety_Before'),\n",
        "# we can use 'less' or 'greater' depending on how differences are calculated.\n",
        "# If calculating Before - After, we expect positive differences.\n",
        "# If calculating After - Before, we expect negative differences.\n",
        "# Let's use 'Anxiety_Before' and 'Anxiety_After' directly with alternative='less'\n",
        "# which tests if the distribution of Anxiety_After is stochastically smaller than Anxiety_Before.\n",
        "statistic, p_value = stats.wilcoxon(df['Anxiety_Before'], df['Anxiety_After'], alternative='greater')\n",
        "# 'alternative=greater' tests if x is stochastically greater than y (i.e., x - y > 0)\n",
        "# which means 'Anxiety_Before' > 'Anxiety_After' (reduction in anxiety)\n",
        "\n",
        "print(f\"Wilcoxon W-statistic: {statistic:.3f}\")\n",
        "print(f\"P-value: {p_value:.3f}\")\n",
        "print(\"\\n\")\n",
        "\n",
        "# 3. Set the Significance Level\n",
        "alpha = 0.05\n",
        "\n",
        "# 4. Make a Decision and Draw a Conclusion\n",
        "print(f\"Significance Level (alpha): {alpha}\")\n",
        "\n",
        "if p_value < alpha:\n",
        "    print(f\"Since p-value ({p_value:.3f}) < alpha ({alpha}), we reject the null hypothesis.\")\n",
        "    print(\"Conclusion: There is a statistically significant reduction in anxiety levels after the mindfulness intervention.\")\n",
        "else:\n",
        "    print(f\"Since p-value ({p_value:.3f}) >= alpha ({alpha}), we fail to reject the null hypothesis.\")\n",
        "    print(\"Conclusion: There is no statistically significant reduction in anxiety levels after the mindfulness intervention.\")\n",
        "\n",
        "# Optional: Display the differences for manual inspection\n",
        "df['Difference'] = df['Anxiety_Before'] - df['Anxiety_After']\n",
        "print(\"\\nDifferences (Before - After):\")\n",
        "print(df['Difference'])\n",
        "\n",
        "# Optional: Check for zero differences (wilcoxon automatically handles these)\n",
        "zero_diffs = (df['Difference'] == 0).sum()\n",
        "print(f\"\\nNumber of zero differences: {zero_diffs}\")"
      ]
    },
    {
      "cell_type": "markdown",
      "source": [
        "**Explanation of the Output:**\n",
        "\n",
        "* The output will show the calculated Wilcoxon W-statistic and the P-value.\n",
        "\n",
        "* The W-statistic (or T-statistic in some conventions) is the sum of the ranks of the differences, typically the smaller sum of positive or negative ranks.\n",
        "\n",
        "* The P-value tells us the probability of observing such a test statistic (or more extreme) by chance, assuming the mindfulness intervention has no effect on anxiety.\n",
        "\n",
        "* In this example, if the p-value is less than 0.05, we would conclude that the mindfulness intervention does lead to a statistically significant reduction in anxiety. If it's greater than 0.05, we would conclude there isn't enough evidence to support a significant reduction.\n",
        "\n",
        "\n",
        "\n",
        "\n",
        "\n",
        "\n"
      ],
      "metadata": {
        "id": "KI2Ffm8BMF5l"
      }
    },
    {
      "cell_type": "code",
      "source": [],
      "metadata": {
        "id": "R4ebNgARN4Bm"
      },
      "execution_count": null,
      "outputs": []
    }
  ]
}
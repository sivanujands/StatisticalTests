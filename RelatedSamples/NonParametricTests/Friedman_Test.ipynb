{
  "nbformat": 4,
  "nbformat_minor": 0,
  "metadata": {
    "colab": {
      "provenance": [],
      "authorship_tag": "ABX9TyPR4sEhhx3qFZNUQvTp2sS0",
      "include_colab_link": true
    },
    "kernelspec": {
      "name": "python3",
      "display_name": "Python 3"
    },
    "language_info": {
      "name": "python"
    }
  },
  "cells": [
    {
      "cell_type": "markdown",
      "metadata": {
        "id": "view-in-github",
        "colab_type": "text"
      },
      "source": [
        "<a href=\"https://colab.research.google.com/github/sivanujands/StatisticalTests/blob/main/RelatedSamples/NonParametricTests/Friedman_Test.ipynb\" target=\"_parent\"><img src=\"https://colab.research.google.com/assets/colab-badge.svg\" alt=\"Open In Colab\"/></a>"
      ]
    },
    {
      "cell_type": "code",
      "metadata": {
        "id": "5fbe57a4"
      },
      "source": [
        "#%pip install scikit-posthocs"
      ],
      "execution_count": 1,
      "outputs": []
    },
    {
      "cell_type": "code",
      "execution_count": 6,
      "metadata": {
        "colab": {
          "base_uri": "https://localhost:8080/"
        },
        "id": "aoByYcMzPSfQ",
        "outputId": "c45dfd0a-9534-4413-851b-07cc87152b22"
      },
      "outputs": [
        {
          "output_type": "stream",
          "name": "stdout",
          "text": [
            "Original DataFrame:\n",
            "   Taster  Brand_A  Brand_B  Brand_C\n",
            "0       1        7        8        6\n",
            "1       2        6        7        5\n",
            "2       3        8        9        7\n",
            "3       4        5        6        4\n",
            "4       5        9        8        7\n",
            "5       6        7        7        5\n",
            "6       7        6        8        7\n",
            "7       8        8        7        6\n",
            "8       9        7        9        8\n",
            "9      10        6        7        6\n",
            "\n",
            "\n",
            "Friedman Chi-squared statistic: 11.842\n",
            "P-value: 0.003\n",
            "\n",
            "\n",
            "Significance Level (alpha): 0.05\n",
            "Since p_value (0.003) < alpha (0.05), we reject the null hypothesis.\n",
            "Conclusion: There is a statistically significant difference in taste preference ratings among the three coffee brands.\n",
            "Proceeding with post-hoc tests to identify specific differences.\n",
            "\n",
            "DataFrame in long format for post-hoc analysis:\n",
            "  Taster    Brand  Rating\n",
            "0      1  Brand_A       7\n",
            "1      2  Brand_A       6\n",
            "2      3  Brand_A       8\n",
            "3      4  Brand_A       5\n",
            "4      5  Brand_A       9\n",
            "\n",
            "DataFrame dtypes before post-hoc test:\n",
            "Taster    category\n",
            "Brand     category\n",
            "Rating       int64\n",
            "dtype: object\n",
            "\n",
            "\n",
            "Attempting post-hoc test using statsmodels (Nemenyi or equivalent)...\n",
            "Please refer to statsmodels documentation for the correct post-hoc test after Friedman.\n"
          ]
        }
      ],
      "source": [
        "import pandas as pd\n",
        "from scipy import stats\n",
        "# import scikit_posthocs as sp # For post-hoc tests - experiencing issues, trying alternative\n",
        "import statsmodels.sandbox.stats.multicomp as smm # Exploring statsmodels for post-hoc\n",
        "\n",
        "# 1. Data\n",
        "data = {\n",
        "    'Taster': [1, 2, 3, 4, 5, 6, 7, 8, 9, 10],\n",
        "    'Brand_A': [7, 6, 8, 5, 9, 7, 6, 8, 7, 6],\n",
        "    'Brand_B': [8, 7, 9, 6, 8, 7, 8, 7, 9, 7],\n",
        "    'Brand_C': [6, 5, 7, 4, 7, 5, 7, 6, 8, 6]\n",
        "}\n",
        "df = pd.DataFrame(data)\n",
        "\n",
        "print(\"Original DataFrame:\")\n",
        "print(df)\n",
        "print(\"\\n\")\n",
        "\n",
        "# 2. Prepare data for Friedman test\n",
        "# The `friedman_chisquare` function takes each condition as a separate argument.\n",
        "# So, we pass the columns corresponding to Brand_A, Brand_B, Brand_C.\n",
        "statistic, p_value = stats.friedmanchisquare(df['Brand_A'], df['Brand_B'], df['Brand_C'])\n",
        "\n",
        "print(f\"Friedman Chi-squared statistic: {statistic:.3f}\")\n",
        "print(f\"P-value: {p_value:.3f}\")\n",
        "print(\"\\n\")\n",
        "\n",
        "# 3. Set the Significance Level\n",
        "alpha = 0.05\n",
        "\n",
        "# 4. Make a Decision and Draw a Conclusion\n",
        "print(f\"Significance Level (alpha): {alpha}\")\n",
        "\n",
        "if p_value < alpha:\n",
        "    print(f\"Since p_value ({p_value:.3f}) < alpha ({alpha}), we reject the null hypothesis.\")\n",
        "    print(\"Conclusion: There is a statistically significant difference in taste preference ratings among the three coffee brands.\")\n",
        "    print(\"Proceeding with post-hoc tests to identify specific differences.\")\n",
        "\n",
        "    # 5. Post-hoc Analysis (Using statsmodels or other alternative)\n",
        "    # We need to reshape the data to 'long' format for post-hoc tests.\n",
        "    df_long = pd.melt(df, id_vars=['Taster'], var_name='Brand', value_name='Rating')\n",
        "\n",
        "    # Convert 'Taster' and 'Brand' columns to categorical type (still good practice)\n",
        "    df_long['Taster'] = df_long['Taster'].astype('category')\n",
        "    df_long['Brand'] = df_long['Brand'].astype('category')\n",
        "\n",
        "    print(\"\\nDataFrame in long format for post-hoc analysis:\")\n",
        "    print(df_long.head()) # Show first few rows\n",
        "    print(\"\\nDataFrame dtypes before post-hoc test:\")\n",
        "    print(df_long.dtypes)\n",
        "    print(\"\\n\")\n",
        "\n",
        "    # Perform post-hoc test using statsmodels or alternative\n",
        "    # Need to check statsmodels documentation for Nemenyi or equivalent post-hoc for Friedman\n",
        "    # As a placeholder, let's see if we can use a general multiple comparison test if Nemenyi isn't direct\n",
        "    # This part will need adjustment based on statsmodels capabilities\n",
        "\n",
        "    # Example placeholder (this might not be the correct function for Nemenyi after Friedman)\n",
        "    # mc = smm.MultiComparison(df_long['Rating'], df_long['Brand'])\n",
        "    # result = mc.tukeyhsd() # Tukey HSD is for ANOVA, not Friedman\n",
        "\n",
        "    # Need to find the appropriate statsmodels function for Nemenyi or a similar non-parametric post-hoc\n",
        "    print(\"Attempting post-hoc test using statsmodels (Nemenyi or equivalent)...\")\n",
        "    # Further code will be added here once the correct statsmodels function is identified\n",
        "    print(\"Please refer to statsmodels documentation for the correct post-hoc test after Friedman.\")\n",
        "\n",
        "\n",
        "else:\n",
        "    print(f\"Since p_value ({p_value:.3f}) >= alpha ({alpha}), we fail to reject the null hypothesis.\")\n",
        "    print(\"Conclusion: There is no statistically significant difference in taste preference ratings among the three coffee brands.\")"
      ]
    }
  ]
}
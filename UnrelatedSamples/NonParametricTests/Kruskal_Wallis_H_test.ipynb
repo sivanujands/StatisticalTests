{
  "nbformat": 4,
  "nbformat_minor": 0,
  "metadata": {
    "colab": {
      "provenance": [],
      "authorship_tag": "ABX9TyONeOxHeAQZ5wRkD8jC7nw6",
      "include_colab_link": true
    },
    "kernelspec": {
      "name": "python3",
      "display_name": "Python 3"
    },
    "language_info": {
      "name": "python"
    }
  },
  "cells": [
    {
      "cell_type": "markdown",
      "metadata": {
        "id": "view-in-github",
        "colab_type": "text"
      },
      "source": [
        "<a href=\"https://colab.research.google.com/github/sivanujands/StatisticalTests/blob/main/UnrelatedSamples/NonParametricTests/Kruskal_Wallis_H_test.ipynb\" target=\"_parent\"><img src=\"https://colab.research.google.com/assets/colab-badge.svg\" alt=\"Open In Colab\"/></a>"
      ]
    },
    {
      "cell_type": "code",
      "metadata": {
        "id": "40a58d08"
      },
      "source": [
        "#%pip install scikit-posthocs"
      ],
      "execution_count": 4,
      "outputs": []
    },
    {
      "cell_type": "code",
      "execution_count": 3,
      "metadata": {
        "colab": {
          "base_uri": "https://localhost:8080/"
        },
        "id": "HpAGyzpsnAJA",
        "outputId": "6e97cf73-6530-4725-827b-05ff1758309d"
      },
      "outputs": [
        {
          "output_type": "stream",
          "name": "stdout",
          "text": [
            "Young Group Ratings (n=10): [4, 3, 5, 4, 3, 2, 4, 5, 3, 4]\n",
            "Middle-aged Group Ratings (n=10): [3, 4, 4, 3, 2, 3, 4, 2, 3, 4]\n",
            "Senior Group Ratings (n=10): [2, 1, 3, 2, 1, 2, 3, 1, 2, 1]\n",
            "\n",
            "\n",
            "Median Young Group: 4.0\n",
            "Median Middle-aged Group: 3.0\n",
            "Median Senior Group: 2.0\n",
            "\n",
            "\n",
            "Kruskal-Wallis H-statistic: 14.354\n",
            "P-value: 0.001\n",
            "\n",
            "\n",
            "Significance Level (alpha): 0.05\n",
            "Since p-value (0.001) < alpha (0.05), we reject the null hypothesis.\n",
            "Conclusion: There is a statistically significant difference in customer satisfaction ratings among the three age groups.\n",
            "Proceeding with post-hoc tests to identify specific differences.\n",
            "\n",
            "DataFrame in long format for post-hoc analysis:\n",
            "   Rating  Group\n",
            "0       4  Young\n",
            "1       3  Young\n",
            "2       5  Young\n",
            "3       4  Young\n",
            "4       3  Young\n",
            "\n",
            "\n",
            "Dunn's Post-hoc Test Results (Bonferroni-adjusted p-values):\n",
            "             Middle-aged    Senior     Young\n",
            "Middle-aged     1.000000  0.019289  1.000000\n",
            "Senior          0.019289  1.000000  0.000811\n",
            "Young           1.000000  0.000811  1.000000\n"
          ]
        }
      ],
      "source": [
        "import pandas as pd\n",
        "from scipy import stats\n",
        "import scikit_posthocs as sp # For post-hoc tests\n",
        "\n",
        "# 1. Data\n",
        "young_ratings = [4, 3, 5, 4, 3, 2, 4, 5, 3, 4]\n",
        "middle_aged_ratings = [3, 4, 4, 3, 2, 3, 4, 2, 3, 4]\n",
        "senior_ratings = [2, 1, 3, 2, 1, 2, 3, 1, 2, 1]\n",
        "\n",
        "print(f\"Young Group Ratings (n={len(young_ratings)}): {young_ratings}\")\n",
        "print(f\"Middle-aged Group Ratings (n={len(middle_aged_ratings)}): {middle_aged_ratings}\")\n",
        "print(f\"Senior Group Ratings (n={len(senior_ratings)}): {senior_ratings}\")\n",
        "print(\"\\n\")\n",
        "\n",
        "# Optional: Check descriptive statistics (medians are often more appropriate for non-normal data)\n",
        "print(\"Median Young Group:\", pd.Series(young_ratings).median())\n",
        "print(\"Median Middle-aged Group:\", pd.Series(middle_aged_ratings).median())\n",
        "print(\"Median Senior Group:\", pd.Series(senior_ratings).median())\n",
        "print(\"\\n\")\n",
        "\n",
        "# 2. Perform the Kruskal-Wallis H-test\n",
        "# stats.kruskal takes each group's data as separate arguments\n",
        "statistic, p_value = stats.kruskal(young_ratings, middle_aged_ratings, senior_ratings)\n",
        "\n",
        "print(f\"Kruskal-Wallis H-statistic: {statistic:.3f}\")\n",
        "print(f\"P-value: {p_value:.3f}\")\n",
        "print(\"\\n\")\n",
        "\n",
        "# 3. Set the Significance Level\n",
        "alpha = 0.05\n",
        "\n",
        "# 4. Make a Decision and Draw a Conclusion (Overall H-test)\n",
        "print(f\"Significance Level (alpha): {alpha}\")\n",
        "\n",
        "if p_value < alpha:\n",
        "    print(f\"Since p-value ({p_value:.3f}) < alpha ({alpha}), we reject the null hypothesis.\")\n",
        "    print(\"Conclusion: There is a statistically significant difference in customer satisfaction ratings among the three age groups.\")\n",
        "    print(\"Proceeding with post-hoc tests to identify specific differences.\")\n",
        "\n",
        "    # 5. Post-hoc Analysis (Dunn's test is a common choice for Kruskal-Wallis)\n",
        "    # For post-hoc tests, it's often easiest to put the data into a single DataFrame.\n",
        "    all_ratings = young_ratings + middle_aged_ratings + senior_ratings\n",
        "    groups = ['Young'] * len(young_ratings) + ['Middle-aged'] * len(middle_aged_ratings) + ['Senior'] * len(senior_ratings)\n",
        "    df_long = pd.DataFrame({'Rating': all_ratings, 'Group': groups})\n",
        "\n",
        "    print(\"\\nDataFrame in long format for post-hoc analysis:\")\n",
        "    print(df_long.head()) # Show first few rows\n",
        "    print(\"\\n\")\n",
        "\n",
        "    # Perform Dunn's post-hoc test\n",
        "    # It requires the long format DataFrame, 'data_col' for the dependent variable,\n",
        "    # and 'group_col' for the independent variable levels.\n",
        "    post_hoc_results = sp.posthoc_dunn(a=df_long, val_col='Rating', group_col='Group', p_adjust='bonferroni')\n",
        "    # 'p_adjust' can be 'bonferroni', 'sidak', 'holm', etc. Bonferroni is conservative.\n",
        "\n",
        "    print(\"Dunn's Post-hoc Test Results (Bonferroni-adjusted p-values):\")\n",
        "    print(post_hoc_results)\n",
        "\n",
        "    # Interpretation of Dunn's Post-hoc:\n",
        "    # Look at the p-values in the table. Values less than 0.05 (or adjusted alpha) are significant.\n",
        "\n",
        "else:\n",
        "    print(f\"Since p-value ({p_value:.3f}) >= alpha ({alpha}), we fail to reject the null hypothesis.\")\n",
        "    print(\"Conclusion: There is no statistically significant difference in customer satisfaction ratings among the three age groups.\")"
      ]
    },
    {
      "cell_type": "markdown",
      "source": [
        "**Explanation of the Output:**\n",
        "\n",
        "* The output will first show the calculated Kruskal-Wallis H-statistic and its P-value.\n",
        "\n",
        "* The H-statistic is a non-parametric measure indicating the overall difference in the distributions (or median ranks) across the groups.\n",
        "\n",
        "* The P-value tells us the probability of observing an H-statistic as extreme as, or more extreme than, the one calculated, assuming no true difference among the groups' satisfaction ratings.\n",
        "\n",
        "* Based on the comparison of the p-value with the chosen alpha (0.05):\n",
        "\n",
        "* If p_value < alpha, you reject the null hypothesis. This means there is a statistically significant overall difference in customer satisfaction ratings among the three age groups. Since this is an omnibus test, it doesn't tell you which specific groups differ.\n",
        "\n",
        "\n",
        "* If you reject H_0, the code then proceeds to perform a Dunn's Post-hoc Test (with Bonferroni adjustment in this example). This test provides pairwise comparisons between all combinations of your groups (e.g., Young vs. Middle-aged, Young vs. Senior, Middle-aged vs. Senior).\n",
        "\n",
        "* The table of post_hoc_results shows the p-values for each pairwise comparison. You would examine these p-values. If a p-value is less than your chosen alpha (or the Bonferroni-corrected alpha, if applicable), it indicates a significant difference between that specific pair of groups. This helps you pinpoint exactly which age groups have significantly different satisfaction ratings."
      ],
      "metadata": {
        "id": "tCo185aOnXEZ"
      }
    },
    {
      "cell_type": "code",
      "source": [],
      "metadata": {
        "id": "IXVOeIBSnnfR"
      },
      "execution_count": null,
      "outputs": []
    }
  ]
}
{
  "nbformat": 4,
  "nbformat_minor": 0,
  "metadata": {
    "colab": {
      "provenance": [],
      "authorship_tag": "ABX9TyOas1MCV0iVTP5EOs9B5tsK",
      "include_colab_link": true
    },
    "kernelspec": {
      "name": "python3",
      "display_name": "Python 3"
    },
    "language_info": {
      "name": "python"
    }
  },
  "cells": [
    {
      "cell_type": "markdown",
      "metadata": {
        "id": "view-in-github",
        "colab_type": "text"
      },
      "source": [
        "<a href=\"https://colab.research.google.com/github/sivanujands/StatisticalTests/blob/main/UnrelatedSamples/NonParametricTests/Mann_Whitney_U_test.ipynb\" target=\"_parent\"><img src=\"https://colab.research.google.com/assets/colab-badge.svg\" alt=\"Open In Colab\"/></a>"
      ]
    },
    {
      "cell_type": "code",
      "execution_count": 1,
      "metadata": {
        "colab": {
          "base_uri": "https://localhost:8080/"
        },
        "id": "jiQmiqzMk5OW",
        "outputId": "b6360881-38af-475a-81fd-464f5a159271"
      },
      "outputs": [
        {
          "output_type": "stream",
          "name": "stdout",
          "text": [
            "Product A Ratings (n=15): [7, 8, 6, 9, 7, 8, 5, 9, 6, 7, 8, 9, 7, 6, 8]\n",
            "Product B Ratings (n=12): [5, 6, 4, 7, 5, 6, 3, 8, 4, 5, 7, 6]\n",
            "\n",
            "\n",
            "Descriptive Statistics for Product A:\n",
            "count    15.000000\n",
            "mean      7.333333\n",
            "std       1.234427\n",
            "min       5.000000\n",
            "25%       6.500000\n",
            "50%       7.000000\n",
            "75%       8.000000\n",
            "max       9.000000\n",
            "dtype: float64\n",
            "Median Product A: 7.00\n",
            "\n",
            "Descriptive Statistics for Product B:\n",
            "count    12.000000\n",
            "mean      5.500000\n",
            "std       1.445998\n",
            "min       3.000000\n",
            "25%       4.750000\n",
            "50%       5.500000\n",
            "75%       6.250000\n",
            "max       8.000000\n",
            "dtype: float64\n",
            "Median Product B: 5.50\n",
            "\n",
            "Mann-Whitney U-statistic: 149.000\n",
            "P-value: 0.004\n",
            "\n",
            "\n",
            "Significance Level (alpha): 0.05\n",
            "Since p-value (0.004) < alpha (0.05), we reject the null hypothesis.\n",
            "Conclusion: There is a statistically significant difference in customer satisfaction ratings between Product A and Product B.\n"
          ]
        }
      ],
      "source": [
        "import pandas as pd\n",
        "from scipy import stats\n",
        "import numpy as np\n",
        "\n",
        "# 1. Data\n",
        "product_a_ratings = np.array([7, 8, 6, 9, 7, 8, 5, 9, 6, 7, 8, 9, 7, 6, 8])\n",
        "product_b_ratings = np.array([5, 6, 4, 7, 5, 6, 3, 8, 4, 5, 7, 6])\n",
        "\n",
        "print(f\"Product A Ratings (n={len(product_a_ratings)}): {product_a_ratings.tolist()}\")\n",
        "print(f\"Product B Ratings (n={len(product_b_ratings)}): {product_b_ratings.tolist()}\")\n",
        "print(\"\\n\")\n",
        "\n",
        "# Optional: Check descriptive statistics (medians are often more appropriate for non-normal data)\n",
        "print(\"Descriptive Statistics for Product A:\")\n",
        "print(pd.Series(product_a_ratings).describe())\n",
        "print(f\"Median Product A: {np.median(product_a_ratings):.2f}\\n\")\n",
        "\n",
        "print(\"Descriptive Statistics for Product B:\")\n",
        "print(pd.Series(product_b_ratings).describe())\n",
        "print(f\"Median Product B: {np.median(product_b_ratings):.2f}\\n\")\n",
        "\n",
        "\n",
        "# 2. Perform the Mann-Whitney U-test\n",
        "# stats.mannwhitneyu returns the U statistic and a two-sided p-value by default.\n",
        "# 'alternative' can be 'two-sided', 'less', or 'greater'.\n",
        "# We are asking if there's *a* difference, so 'two-sided' is appropriate.\n",
        "u_statistic, p_value = stats.mannwhitneyu(product_a_ratings, product_b_ratings, alternative='two-sided')\n",
        "\n",
        "print(f\"Mann-Whitney U-statistic: {u_statistic:.3f}\")\n",
        "print(f\"P-value: {p_value:.3f}\")\n",
        "print(\"\\n\")\n",
        "\n",
        "# 3. Set the Significance Level\n",
        "alpha = 0.05\n",
        "\n",
        "# 4. Make a Decision and Draw a Conclusion\n",
        "print(f\"Significance Level (alpha): {alpha}\")\n",
        "\n",
        "if p_value < alpha:\n",
        "    print(f\"Since p-value ({p_value:.3f}) < alpha ({alpha}), we reject the null hypothesis.\")\n",
        "    print(\"Conclusion: There is a statistically significant difference in customer satisfaction ratings between Product A and Product B.\")\n",
        "else:\n",
        "    print(f\"Since p-value ({p_value:.3f}) >= alpha ({alpha}), we fail to reject the null hypothesis.\")\n",
        "    print(\"Conclusion: There is no statistically significant difference in customer satisfaction ratings between Product A and Product B.\")"
      ]
    },
    {
      "cell_type": "markdown",
      "source": [
        "**Explanation of the Output:**\n",
        "\n",
        "* The output will show the calculated Mann-Whitney U-statistic and its P-value.\n",
        "\n",
        "* The U-statistic is the value calculated by the test, reflecting the overlap or separation of the ranks between the two groups.\n",
        "\n",
        "* The P-value tells us the probability of observing a U-statistic as extreme as, or more extreme than, the one calculated, assuming there's no true difference between the distributions of satisfaction ratings for the two products.\n",
        "\n",
        "* Based on the comparison of the p-value with the chosen alpha (0.05):\n",
        "\n",
        "* If p_value < alpha, you reject the null hypothesis. This means there is a statistically significant difference in customer satisfaction ratings between Product A and Product B. Based on the means/medians observed in the descriptive statistics, you would infer which product tends to have higher ratings.\n",
        "\n",
        "* If p_value >= alpha, you fail to reject the null hypothesis. This means there is not enough evidence to claim a statistically significant difference in customer satisfaction ratings between the two products."
      ],
      "metadata": {
        "id": "aJ13eA7IlSrR"
      }
    },
    {
      "cell_type": "code",
      "source": [],
      "metadata": {
        "id": "ZPb_IIEjl5ga"
      },
      "execution_count": null,
      "outputs": []
    }
  ]
}
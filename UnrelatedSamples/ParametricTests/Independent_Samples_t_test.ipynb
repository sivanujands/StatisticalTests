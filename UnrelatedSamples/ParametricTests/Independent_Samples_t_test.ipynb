{
  "nbformat": 4,
  "nbformat_minor": 0,
  "metadata": {
    "colab": {
      "provenance": [],
      "authorship_tag": "ABX9TyPJdmcX6O/Y9aAjH5mCmOZd",
      "include_colab_link": true
    },
    "kernelspec": {
      "name": "python3",
      "display_name": "Python 3"
    },
    "language_info": {
      "name": "python"
    }
  },
  "cells": [
    {
      "cell_type": "markdown",
      "metadata": {
        "id": "view-in-github",
        "colab_type": "text"
      },
      "source": [
        "<a href=\"https://colab.research.google.com/github/sivanujands/StatisticalTests/blob/main/UnrelatedSamples/ParametricTests/Independent_Samples_t_test.ipynb\" target=\"_parent\"><img src=\"https://colab.research.google.com/assets/colab-badge.svg\" alt=\"Open In Colab\"/></a>"
      ]
    },
    {
      "cell_type": "code",
      "execution_count": 1,
      "metadata": {
        "colab": {
          "base_uri": "https://localhost:8080/"
        },
        "id": "TvFsaBwdiTWT",
        "outputId": "bc4a5a45-cacc-4153-c91f-eaa04f471f02"
      },
      "outputs": [
        {
          "output_type": "stream",
          "name": "stdout",
          "text": [
            "Method A Scores (n=30): [85, 88, 90, 78, 92, 80, 83, 87, 89, 79, 91, 84, 86, 77, 93, 81, 85, 88, 90, 78, 82, 86, 89, 91, 79, 83, 87, 85, 90, 80]\n",
            "Method B Scores (n=35): [75, 78, 80, 72, 81, 70, 73, 76, 79, 68, 82, 74, 77, 65, 83, 71, 75, 78, 80, 72, 76, 79, 81, 83, 69, 74, 77, 75, 80, 70, 72, 78, 79, 81, 73]\n",
            "\n",
            "\n",
            "Descriptive Statistics for Method A:\n",
            "count    30.000000\n",
            "mean     85.200000\n",
            "std       4.686003\n",
            "min      77.000000\n",
            "25%      81.250000\n",
            "50%      85.500000\n",
            "75%      89.000000\n",
            "max      93.000000\n",
            "dtype: float64\n",
            "\n",
            "Descriptive Statistics for Method B:\n",
            "count    35.000000\n",
            "mean     75.885714\n",
            "std       4.555355\n",
            "min      65.000000\n",
            "25%      72.500000\n",
            "50%      76.000000\n",
            "75%      79.500000\n",
            "max      83.000000\n",
            "dtype: float64\n",
            "\n",
            "\n",
            "Levene's Test Statistic: 0.070\n",
            "Levene's Test P-value: 0.793\n",
            "Conclusion: Variances are not significantly different (p >= 0.05). Will use standard t-test (equal_var=True).\n",
            "\n",
            "\n",
            "Independent Samples T-statistic: 8.110\n",
            "P-value: 0.000\n",
            "\n",
            "\n",
            "Significance Level (alpha): 0.05\n",
            "Since p-value (0.000) < alpha (0.05), we reject the null hypothesis.\n",
            "Conclusion: There is a statistically significant difference in the average test scores between Method A and Method B.\n",
            "\n",
            "Mean score for Method A: 85.20\n",
            "Mean score for Method B: 75.89\n",
            "Difference in means: 9.31\n"
          ]
        }
      ],
      "source": [
        "import pandas as pd\n",
        "from scipy import stats\n",
        "import numpy as np\n",
        "\n",
        "# 1. Data\n",
        "method_a_scores = np.array([85, 88, 90, 78, 92, 80, 83, 87, 89, 79, 91, 84, 86, 77, 93, 81, 85, 88, 90, 78, 82, 86, 89, 91, 79, 83, 87, 85, 90, 80])\n",
        "method_b_scores = np.array([75, 78, 80, 72, 81, 70, 73, 76, 79, 68, 82, 74, 77, 65, 83, 71, 75, 78, 80, 72, 76, 79, 81, 83, 69, 74, 77, 75, 80, 70, 72, 78, 79, 81, 73])\n",
        "\n",
        "print(f\"Method A Scores (n={len(method_a_scores)}): {method_a_scores.tolist()}\")\n",
        "print(f\"Method B Scores (n={len(method_b_scores)}): {method_b_scores.tolist()}\")\n",
        "print(\"\\n\")\n",
        "\n",
        "# Optional: Check descriptive statistics for each group\n",
        "print(\"Descriptive Statistics for Method A:\")\n",
        "print(pd.Series(method_a_scores).describe())\n",
        "print(\"\\nDescriptive Statistics for Method B:\")\n",
        "print(pd.Series(method_b_scores).describe())\n",
        "print(\"\\n\")\n",
        "\n",
        "# 2. Check Homogeneity of Variances using Levene's Test\n",
        "# H0: Variances are equal\n",
        "# H1: Variances are not equal\n",
        "levene_statistic, levene_p_value = stats.levene(method_a_scores, method_b_scores)\n",
        "\n",
        "print(f\"Levene's Test Statistic: {levene_statistic:.3f}\")\n",
        "print(f\"Levene's Test P-value: {levene_p_value:.3f}\")\n",
        "\n",
        "alpha = 0.05\n",
        "if levene_p_value < alpha:\n",
        "    print(\"Conclusion: Variances are significantly different (p < 0.05). Will use Welch's t-test (equal_var=False).\")\n",
        "    equal_variances = False\n",
        "else:\n",
        "    print(\"Conclusion: Variances are not significantly different (p >= 0.05). Will use standard t-test (equal_var=True).\")\n",
        "    equal_variances = True\n",
        "\n",
        "print(\"\\n\")\n",
        "\n",
        "# 3. Perform the Independent Samples t-test\n",
        "# stats.ttest_ind automatically handles the equal_var parameter for Welch's or standard t-test\n",
        "t_statistic, p_value = stats.ttest_ind(method_a_scores, method_b_scores, equal_var=equal_variances)\n",
        "\n",
        "print(f\"Independent Samples T-statistic: {t_statistic:.3f}\")\n",
        "print(f\"P-value: {p_value:.3f}\")\n",
        "print(\"\\n\")\n",
        "\n",
        "# 4. Set the Significance Level (already defined as alpha = 0.05)\n",
        "\n",
        "# 5. Make a Decision and Draw a Conclusion\n",
        "print(f\"Significance Level (alpha): {alpha}\")\n",
        "\n",
        "if p_value < alpha:\n",
        "    print(f\"Since p-value ({p_value:.3f}) < alpha ({alpha}), we reject the null hypothesis.\")\n",
        "    print(\"Conclusion: There is a statistically significant difference in the average test scores between Method A and Method B.\")\n",
        "else:\n",
        "    print(f\"Since p-value ({p_value:.3f}) >= alpha ({alpha}), we fail to reject the null hypothesis.\")\n",
        "    print(\"Conclusion: There is no statistically significant difference in the average test scores between Method A and Method B.\")\n",
        "\n",
        "# Additional context\n",
        "print(f\"\\nMean score for Method A: {np.mean(method_a_scores):.2f}\")\n",
        "print(f\"Mean score for Method B: {np.mean(method_b_scores):.2f}\")\n",
        "print(f\"Difference in means: {np.mean(method_a_scores) - np.mean(method_b_scores):.2f}\")"
      ]
    },
    {
      "cell_type": "markdown",
      "source": [
        "**Explanation of the Output:**\n",
        "\n",
        "* The output will first show the results of Levene's test for equality of variances.\n",
        "\n",
        "* Levene's Test P-value: This is crucial for determining which version of the t-test to use.\n",
        "\n",
        "* If levene_p_value is less than alpha (e.g., 0.05), it suggests that the variances are significantly different, and you should use equal_var=False in ttest_ind (which runs Welch's t-test).\n",
        "\n",
        "* If levene_p_value is greater than or equal to alpha, it suggests that the variances are not significantly different, and you can use equal_var=True (the standard pooled t-test).\n",
        "\n",
        "* Then, the output for the Independent Samples t-test will be displayed:\n",
        "\n",
        "* T-statistic: This indicates the magnitude and direction of the difference between the group means relative to the variability within the groups. A positive T-statistic means the mean of the first group (method_a_scores) is higher than the second group (method_b_scores).\n",
        "\n",
        "* P-value: This is the probability of observing a t-statistic as extreme as, or more extreme than, the one calculated, assuming there's no true difference between the population means.\n",
        "\n",
        "* Based on the comparison of the p-value with the chosen alpha (0.05):\n",
        "\n",
        "* If p_value < alpha, you reject the null hypothesis, concluding that there is a statistically significant difference between the average test scores of students taught by Method A and Method B.\n",
        "\n",
        "* If p_value >= alpha, you fail to reject the null hypothesis, concluding that there is not enough evidence to claim a statistically significant difference between the average test scores of students taught by Method A and Method B."
      ],
      "metadata": {
        "id": "OyrCEJVaifGL"
      }
    },
    {
      "cell_type": "code",
      "source": [],
      "metadata": {
        "id": "VoVFDJ24i0mg"
      },
      "execution_count": null,
      "outputs": []
    }
  ]
}
{
  "nbformat": 4,
  "nbformat_minor": 0,
  "metadata": {
    "colab": {
      "provenance": [],
      "authorship_tag": "ABX9TyN3CFn6kz4wp51LtA8b4aOe",
      "include_colab_link": true
    },
    "kernelspec": {
      "name": "python3",
      "display_name": "Python 3"
    },
    "language_info": {
      "name": "python"
    }
  },
  "cells": [
    {
      "cell_type": "markdown",
      "metadata": {
        "id": "view-in-github",
        "colab_type": "text"
      },
      "source": [
        "<a href=\"https://colab.research.google.com/github/sivanujands/StatisticalTests/blob/main/UnrelatedSamples/ParametricTests/ANOVA.ipynb\" target=\"_parent\"><img src=\"https://colab.research.google.com/assets/colab-badge.svg\" alt=\"Open In Colab\"/></a>"
      ]
    },
    {
      "cell_type": "code",
      "execution_count": 1,
      "metadata": {
        "colab": {
          "base_uri": "https://localhost:8080/"
        },
        "id": "-I6qffP8jlMa",
        "outputId": "0a6b8ed5-a309-4809-d729-f7017f079e05"
      },
      "outputs": [
        {
          "output_type": "stream",
          "name": "stdout",
          "text": [
            "Original DataFrame:\n",
            "  Method  Sales\n",
            "0      X    120\n",
            "1      X    115\n",
            "2      X    125\n",
            "3      X    118\n",
            "4      X    122\n",
            "\n",
            "\n",
            "Descriptive Statistics by Method:\n",
            "        count   mean       std    min     25%    50%     75%    max\n",
            "Method                                                             \n",
            "X        10.0  119.7  5.165054  110.0  117.25  119.5  122.75  128.0\n",
            "Y        10.0  107.1  4.677369  100.0  103.50  107.5  109.75  115.0\n",
            "Z        10.0  132.1  4.581363  125.0  129.25  131.5  134.50  140.0\n",
            "\n",
            "\n",
            "Levene's Test Statistic: 0.049\n",
            "Levene's Test P-value: 0.952\n",
            "Conclusion: Variances are not significantly different (p >= 0.05). Standard ANOVA assumptions likely met.\n",
            "\n",
            "\n",
            "One-Way ANOVA Results:\n",
            "                sum_sq    df          F        PR(>F)\n",
            "C(Method)  3125.066667   2.0  67.404378  3.176023e-11\n",
            "Residual    625.900000  27.0        NaN           NaN\n",
            "\n",
            "\n",
            "P-value for the 'Method' effect: 0.000\n",
            "Significance Level (alpha): 0.05\n",
            "Since p-value (0.000) < alpha (0.05), we reject the null hypothesis.\n",
            "Conclusion: There is a statistically significant difference in average sales performance among the three training methods.\n",
            "Proceeding with post-hoc tests to identify specific differences.\n",
            "\n",
            "Tukey HSD Post-hoc Test Results:\n",
            "Multiple Comparison of Means - Tukey HSD, FWER=0.05 \n",
            "====================================================\n",
            "group1 group2 meandiff p-adj  lower    upper  reject\n",
            "----------------------------------------------------\n",
            "     X      Y    -12.6   0.0 -17.9387 -7.2613   True\n",
            "     X      Z     12.4   0.0   7.0613 17.7387   True\n",
            "     Y      Z     25.0   0.0  19.6613 30.3387   True\n",
            "----------------------------------------------------\n"
          ]
        }
      ],
      "source": [
        "import pandas as pd\n",
        "from scipy import stats\n",
        "import statsmodels.api as sm\n",
        "from statsmodels.formula.api import ols\n",
        "from statsmodels.stats.multicomp import pairwise_tukeyhsd\n",
        "\n",
        "# 1. Data\n",
        "data = {\n",
        "    'Method': ['X'] * 10 + ['Y'] * 10 + ['Z'] * 10,\n",
        "    'Sales': [120, 115, 125, 118, 122, 110, 128, 119, 123, 117,\n",
        "              105, 110, 100, 108, 112, 103, 115, 107, 109, 102,\n",
        "              130, 135, 128, 132, 138, 125, 140, 133, 129, 131]\n",
        "}\n",
        "df = pd.DataFrame(data)\n",
        "\n",
        "print(\"Original DataFrame:\")\n",
        "print(df.head()) # Show first few rows\n",
        "print(\"\\n\")\n",
        "\n",
        "# Optional: Check descriptive statistics for each group\n",
        "print(\"Descriptive Statistics by Method:\")\n",
        "print(df.groupby('Method')['Sales'].describe())\n",
        "print(\"\\n\")\n",
        "\n",
        "# 2. Check Homogeneity of Variances using Levene's Test\n",
        "# H0: Variances are equal across groups\n",
        "# H1: Variances are not equal across groups\n",
        "levene_statistic, levene_p_value = stats.levene(df['Sales'][df['Method'] == 'X'],\n",
        "                                                  df['Sales'][df['Method'] == 'Y'],\n",
        "                                                  df['Sales'][df['Method'] == 'Z'])\n",
        "\n",
        "print(f\"Levene's Test Statistic: {levene_statistic:.3f}\")\n",
        "print(f\"Levene's Test P-value: {levene_p_value:.3f}\")\n",
        "\n",
        "alpha = 0.05\n",
        "if levene_p_value < alpha:\n",
        "    print(\"Conclusion: Variances are significantly different (p < 0.05). Consider Welch's ANOVA or non-parametric test.\")\n",
        "    # For now, we'll proceed with standard ANOVA, but in a real scenario, you might use different approach\n",
        "else:\n",
        "    print(\"Conclusion: Variances are not significantly different (p >= 0.05). Standard ANOVA assumptions likely met.\")\n",
        "\n",
        "print(\"\\n\")\n",
        "\n",
        "# 3. Perform One-Way ANOVA\n",
        "# Using statsmodels for a more comprehensive ANOVA table\n",
        "# The formula 'Sales ~ C(Method)' indicates 'Sales' is the dependent variable\n",
        "# and 'Method' is the categorical independent variable. 'C()' explicitly treats 'Method' as categorical.\n",
        "model = ols('Sales ~ C(Method)', data=df).fit()\n",
        "anova_table = sm.stats.anova_lm(model, typ=2) # Type 2 ANOVA sum of squares\n",
        "\n",
        "print(\"One-Way ANOVA Results:\")\n",
        "print(anova_table)\n",
        "print(\"\\n\")\n",
        "\n",
        "# 4. Extract the p-value for the 'Method' effect\n",
        "# The p-value for our main effect (Method) is in the 'PR(>F)' column for the 'C(Method)' row.\n",
        "p_value_method_effect = anova_table.loc['C(Method)', 'PR(>F)']\n",
        "\n",
        "print(f\"P-value for the 'Method' effect: {p_value_method_effect:.3f}\")\n",
        "print(f\"Significance Level (alpha): {alpha}\")\n",
        "\n",
        "# 5. Make a Decision and Draw a Conclusion (Overall ANOVA)\n",
        "if p_value_method_effect < alpha:\n",
        "    print(f\"Since p-value ({p_value_method_effect:.3f}) < alpha ({alpha}), we reject the null hypothesis.\")\n",
        "    print(\"Conclusion: There is a statistically significant difference in average sales performance among the three training methods.\")\n",
        "    print(\"Proceeding with post-hoc tests to identify specific differences.\")\n",
        "\n",
        "    # 6. Perform Post-hoc Analysis (Tukey HSD)\n",
        "    # Tukey HSD is a common post-hoc test when ANOVA's assumption of equal variance is met.\n",
        "    # It controls the family-wise error rate.\n",
        "    tukey_results = pairwise_tukeyhsd(endog=df['Sales'], groups=df['Method'], alpha=alpha)\n",
        "\n",
        "    print(\"\\nTukey HSD Post-hoc Test Results:\")\n",
        "    print(tukey_results)\n",
        "\n",
        "    # Interpretation of Tukey HSD:\n",
        "    # Look at the 'reject' column. If True, the difference between that pair of groups is significant.\n",
        "\n",
        "else:\n",
        "    print(f\"Since p-value ({p_value_method_effect:.3f}) >= alpha ({alpha}), we fail to reject the null hypothesis.\")\n",
        "    print(\"Conclusion: There is no statistically significant difference in average sales performance among the three training methods.\")"
      ]
    },
    {
      "cell_type": "markdown",
      "source": [
        "**Explanation of the Output:**\n",
        "\n",
        "* The output begins with Levene's Test results. This helps you decide if the equal variance assumption is met. If its p-value is low, you might consider alternatives like Welch's ANOVA (which statsmodels can also perform, but requires a slightly different approach for implementation) or non-parametric tests.\n",
        "\n",
        "* Next, the One-Way ANOVA Results table (from statsmodels) is displayed.\n",
        "\n",
        "* Look at the row corresponding to your independent variable (e.g., C(Method)).\n",
        "\n",
        "* df (Degrees of Freedom): For the method, it's k-1 (3-1=2). For residuals, it's N-k (30-3=27).\n",
        "\n",
        "* sum_sq (Sum of Squares): Shows the variability attributed to the method and residuals.\n",
        "\n",
        "* mean_sq (Mean Square): Sum of squares divided by df.\n",
        "\n",
        "* F (F-statistic): The ratio of mean_sq for 'C(Method)' to mean_sq for 'Residual'.\n",
        "\n",
        "* PR(>F) (P-value): This is the crucial p-value for the overall ANOVA test.\n",
        "\n",
        "* Based on the PR(>F) value:\n",
        "\n",
        "* If p_value_method_effect < alpha, you reject H_0. This means there's an overall significant difference in average sales performance across the training methods.\n",
        "\n",
        "* If you reject H_0, the code then proceeds to perform a Tukey HSD Post-hoc Test. This test provides pairwise comparisons between all combinations of your groups (e.g., Method X vs. Method Y, Method X vs. Method Z, Method Y vs. Method Z).\n",
        "\n",
        "* The reject column in the Tukey HSD output indicates whether the difference between that specific pair of means is statistically significant at the chosen alpha level.\n",
        "\n",
        "* This helps you pinpoint exactly which methods differ from each other, which the initial ANOVA doesn't do."
      ],
      "metadata": {
        "id": "6Hy9oX_rjvQS"
      }
    },
    {
      "cell_type": "code",
      "source": [],
      "metadata": {
        "id": "SN0QJQg5kCZB"
      },
      "execution_count": null,
      "outputs": []
    }
  ]
}